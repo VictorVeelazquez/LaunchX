{
 "cells": [
  {
   "cell_type": "code",
   "execution_count": 1,
   "metadata": {},
   "outputs": [
    {
     "name": "stdout",
     "output_type": "stream",
     "text": [
      "ALERTA!!!, Un asteroide se acerca a gran velocidad\n"
     ]
    }
   ],
   "source": [
    "# Ejercicio 1\n",
    "asteroide = 49\n",
    "\n",
    "if asteroide > 25:\n",
    "    print(\"ALERTA!!!, Un asteroide se acerca a gran velocidad\")\n",
    "else:\n",
    "    print(\"todo bien!\")"
   ]
  },
  {
   "cell_type": "code",
   "execution_count": 3,
   "metadata": {},
   "outputs": [
    {
     "name": "stdout",
     "output_type": "stream",
     "text": [
      "Asomate!!!,se puede ver el rayo de luz en el cielo\n"
     ]
    }
   ],
   "source": [
    "# Ejercicio 2\n",
    "asteroide = 19\n",
    "if asteroide == 20:\n",
    "    print(\"Asomate!!!,se puede ver el rayo de luz en el cielo\")\n",
    "elif asteroide < 20:\n",
    "    print(\"Asomate!!!,se puede ver el rayo de luz en el cielo\")\n",
    "else:\n",
    "    print(\"todo normal\")"
   ]
  },
  {
   "cell_type": "code",
   "execution_count": 2,
   "metadata": {},
   "outputs": [
    {
     "name": "stdout",
     "output_type": "stream",
     "text": [
      "Asomate!!!,se puede ver el rayo de luz en el cielo\n"
     ]
    }
   ],
   "source": [
    "# Ejercicio 3\n",
    "V_asteroide = 25\n",
    "T_asteroide = 40\n",
    "if V_asteroide > 25 and T_asteroide > 25:\n",
    "    print(\"ALERTA!!!, Un asteroide se acerca a gran velocidad\")\n",
    "elif V_asteroide >= 20:\n",
    "    print(\"Asomate!!!,se puede ver el rayo de luz en el cielo\")\n",
    "elif T_asteroide < 25:\n",
    "    print(\"todo normal\")\n",
    "else:\n",
    "    print(\"todo normal\")\n"
   ]
  }
 ],
 "metadata": {
  "interpreter": {
   "hash": "b3dea5f6b8988a56ec6d1ec683a5066773f0c1c4a21e80b93f5ba5b80f89a963"
  },
  "kernelspec": {
   "display_name": "Python 3.10.2 64-bit (windows store)",
   "language": "python",
   "name": "python3"
  },
  "language_info": {
   "codemirror_mode": {
    "name": "ipython",
    "version": 3
   },
   "file_extension": ".py",
   "mimetype": "text/x-python",
   "name": "python",
   "nbconvert_exporter": "python",
   "pygments_lexer": "ipython3",
   "version": "3.10.2"
  },
  "orig_nbformat": 4
 },
 "nbformat": 4,
 "nbformat_minor": 2
}
